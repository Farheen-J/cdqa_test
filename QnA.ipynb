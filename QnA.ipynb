{
 "cells": [
  {
   "cell_type": "code",
   "execution_count": 35,
   "metadata": {},
   "outputs": [
    {
     "name": "stdout",
     "output_type": "stream",
     "text": [
      "Downloading SQuAD v1.1 data...\n",
      "train-v1.1.json already downloaded\n",
      "dev-v1.1.json already downloaded\n",
      "\n",
      "Downloading SQuAD v2.0 data...\n",
      "train-v2.0.json already downloaded\n",
      "dev-v2.0.json already downloaded\n",
      "\n",
      "Downloading BNP data...\n",
      "bnpp_newsroom-v1.1.csv already downloaded\n",
      "\n",
      "Downloading trained model...\n",
      "bert_qa.joblib already downloaded\n",
      "\n",
      "Downloading trained model...\n",
      "distilbert_qa.joblib already downloaded\n"
     ]
    }
   ],
   "source": [
    "from cdqa.utils.download import download_squad, download_model, download_bnpp_data\n",
    "\n",
    "directory = '/Models'\n",
    "\n",
    "# Downloading data\n",
    "download_squad(dir=directory)\n",
    "download_bnpp_data(dir=directory)\n",
    "\n",
    "# Downloading pre-trained BERT fine-tuned on SQuAD 1.1\n",
    "download_model('bert-squad_1.1', dir=directory)\n",
    "\n",
    "# Downloading pre-trained DistilBERT fine-tuned on SQuAD 1.1\n",
    "download_model('distilbert-squad_1.1', dir=directory)"
   ]
  },
  {
   "cell_type": "code",
   "execution_count": 36,
   "metadata": {
    "scrolled": true
   },
   "outputs": [
    {
     "data": {
      "text/plain": [
       "QAPipeline(reader=BertQA(adam_epsilon=1e-08,\n",
       "                         bert_model='distilbert-base-uncased',\n",
       "                         do_lower_case=True, fp16=False,\n",
       "                         gradient_accumulation_steps=1, learning_rate=5e-05,\n",
       "                         local_rank=-1, loss_scale=0, max_answer_length=30,\n",
       "                         n_best_size=20, no_cuda=False,\n",
       "                         null_score_diff_threshold=0.0, num_train_epochs=3.0,\n",
       "                         output_dir=None, predict_batch_size=8, seed=42,\n",
       "                         server_ip='', ser...size=8,\n",
       "                         verbose_logging=False, version_2_with_negative=False,\n",
       "                         warmup_proportion=0.1, warmup_steps=0),\n",
       "           retrieve_by_doc=False,\n",
       "           retriever=BM25Retriever(b=0.75, floor=None, k1=2.0, lowercase=True,\n",
       "                                   max_df=0.85, min_df=2, ngram_range=(1, 2),\n",
       "                                   preprocessor=None, stop_words='english',\n",
       "                                   token_pattern='(?u)\\\\b\\\\w\\\\w+\\\\b',\n",
       "                                   tokenizer=None, top_n=20, verbose=False,\n",
       "                                   vocabulary=None))"
      ]
     },
     "execution_count": 36,
     "metadata": {},
     "output_type": "execute_result"
    }
   ],
   "source": [
    "import pandas as pd\n",
    "from ast import literal_eval\n",
    "from cdqa.pipeline import QAPipeline\n",
    "\n",
    "df = pd.read_csv('data.csv', converters={'paragraphs': literal_eval})\n",
    "\n",
    "cdqa_pipeline = QAPipeline(reader='distilbert_qa.joblib') # use 'distilbert_qa.joblib' for DistilBERT instead of BERT\n",
    "cdqa_pipeline.fit_retriever(df=df)"
   ]
  },
  {
   "cell_type": "code",
   "execution_count": 44,
   "metadata": {},
   "outputs": [
    {
     "data": {
      "text/plain": [
       "[('my api',\n",
       "  'routing_rules',\n",
       "  'show me zuul vinz configuration for my api',\n",
       "  1.0593238811528387),\n",
       " ('I want to check zuul vinz configuration for my API',\n",
       "  'routing_rules',\n",
       "  'I want to check zuul vinz configuration for my API',\n",
       "  0.30593752447125333)]"
      ]
     },
     "execution_count": 44,
     "metadata": {},
     "output_type": "execute_result"
    }
   ],
   "source": [
    "cdqa_pipeline.predict(query=\"help me search zuul vinz config\", n_predictions = 2)"
   ]
  },
  {
   "cell_type": "code",
   "execution_count": null,
   "metadata": {},
   "outputs": [],
   "source": [
    "######EOF: Please don't execute below Code ##############"
   ]
  },
  {
   "cell_type": "code",
   "execution_count": null,
   "metadata": {},
   "outputs": [],
   "source": []
  },
  {
   "cell_type": "code",
   "execution_count": null,
   "metadata": {},
   "outputs": [],
   "source": [
    "#Fine tuned Reader\n",
    "import os\n",
    "import torch\n",
    "import joblib\n",
    "from cdqa.reader import BertProcessor, BertQA\n",
    "from cdqa.utils.download import download_squad"
   ]
  },
  {
   "cell_type": "code",
   "execution_count": null,
   "metadata": {},
   "outputs": [],
   "source": [
    "download_squad(dir='./Models')"
   ]
  },
  {
   "cell_type": "code",
   "execution_count": null,
   "metadata": {},
   "outputs": [],
   "source": [
    "train_processor = BertProcessor(do_lower_case=True, is_training=True)\n",
    "train_examples, train_features = train_processor.fit_transform(X='./Models/SQuAD_1.1/train-v1.1.json')"
   ]
  },
  {
   "cell_type": "code",
   "execution_count": null,
   "metadata": {},
   "outputs": [],
   "source": [
    "reader = BertQA(train_batch_size=12,\n",
    "                learning_rate=3e-5,\n",
    "                num_train_epochs=2,\n",
    "                do_lower_case=True,\n",
    "                output_dir='models')\n",
    "\n",
    "reader.fit(X=(train_examples, train_features))"
   ]
  },
  {
   "cell_type": "code",
   "execution_count": null,
   "metadata": {},
   "outputs": [],
   "source": []
  },
  {
   "cell_type": "code",
   "execution_count": null,
   "metadata": {},
   "outputs": [],
   "source": [
    "print('query: {}'.format(query))\n",
    "print('answer: {}'.format(prediction[0]))\n",
    "print('title: {}'.format(prediction[1]))\n",
    "print('paragraph: {}'.format(prediction[2]))"
   ]
  },
  {
   "cell_type": "code",
   "execution_count": null,
   "metadata": {},
   "outputs": [],
   "source": [
    "\n",
    "#springboard_deployment,\"['deploy my API in servicemesh','help me with servicemesh deployment']\"\n",
    "# '''"
   ]
  },
  {
   "cell_type": "code",
   "execution_count": null,
   "metadata": {},
   "outputs": [],
   "source": []
  }
 ],
 "metadata": {
  "kernelspec": {
   "display_name": "Python 3",
   "language": "python",
   "name": "python3"
  },
  "language_info": {
   "codemirror_mode": {
    "name": "ipython",
    "version": 3
   },
   "file_extension": ".py",
   "mimetype": "text/x-python",
   "name": "python",
   "nbconvert_exporter": "python",
   "pygments_lexer": "ipython3",
   "version": "3.7.6"
  }
 },
 "nbformat": 4,
 "nbformat_minor": 4
}
